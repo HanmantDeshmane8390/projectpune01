{
 "cells": [
  {
   "cell_type": "code",
   "execution_count": 2,
   "id": "6ba0f203",
   "metadata": {},
   "outputs": [],
   "source": [
    "import pickle\n",
    "import json\n",
    "import numpy as np\n",
    "import pandas as pd\n",
    "import warnings\n",
    "warnings.filterwarnings(\"ignore\")"
   ]
  },
  {
   "cell_type": "code",
   "execution_count": 3,
   "id": "e8983968",
   "metadata": {},
   "outputs": [],
   "source": [
    "with open(\"lin_reg.pkl\",\"rb\") as f:\n",
    "    model=pickle.load(f)"
   ]
  },
  {
   "cell_type": "code",
   "execution_count": 4,
   "id": "1aa05098",
   "metadata": {},
   "outputs": [],
   "source": [
    "with open(\"project_data.json\",\"r\") as f:\n",
    "    project_data=json.load(f)"
   ]
  },
  {
   "cell_type": "code",
   "execution_count": 5,
   "id": "9da8def9",
   "metadata": {},
   "outputs": [
    {
     "data": {
      "text/html": [
       "<style>#sk-container-id-1 {color: black;background-color: white;}#sk-container-id-1 pre{padding: 0;}#sk-container-id-1 div.sk-toggleable {background-color: white;}#sk-container-id-1 label.sk-toggleable__label {cursor: pointer;display: block;width: 100%;margin-bottom: 0;padding: 0.3em;box-sizing: border-box;text-align: center;}#sk-container-id-1 label.sk-toggleable__label-arrow:before {content: \"▸\";float: left;margin-right: 0.25em;color: #696969;}#sk-container-id-1 label.sk-toggleable__label-arrow:hover:before {color: black;}#sk-container-id-1 div.sk-estimator:hover label.sk-toggleable__label-arrow:before {color: black;}#sk-container-id-1 div.sk-toggleable__content {max-height: 0;max-width: 0;overflow: hidden;text-align: left;background-color: #f0f8ff;}#sk-container-id-1 div.sk-toggleable__content pre {margin: 0.2em;color: black;border-radius: 0.25em;background-color: #f0f8ff;}#sk-container-id-1 input.sk-toggleable__control:checked~div.sk-toggleable__content {max-height: 200px;max-width: 100%;overflow: auto;}#sk-container-id-1 input.sk-toggleable__control:checked~label.sk-toggleable__label-arrow:before {content: \"▾\";}#sk-container-id-1 div.sk-estimator input.sk-toggleable__control:checked~label.sk-toggleable__label {background-color: #d4ebff;}#sk-container-id-1 div.sk-label input.sk-toggleable__control:checked~label.sk-toggleable__label {background-color: #d4ebff;}#sk-container-id-1 input.sk-hidden--visually {border: 0;clip: rect(1px 1px 1px 1px);clip: rect(1px, 1px, 1px, 1px);height: 1px;margin: -1px;overflow: hidden;padding: 0;position: absolute;width: 1px;}#sk-container-id-1 div.sk-estimator {font-family: monospace;background-color: #f0f8ff;border: 1px dotted black;border-radius: 0.25em;box-sizing: border-box;margin-bottom: 0.5em;}#sk-container-id-1 div.sk-estimator:hover {background-color: #d4ebff;}#sk-container-id-1 div.sk-parallel-item::after {content: \"\";width: 100%;border-bottom: 1px solid gray;flex-grow: 1;}#sk-container-id-1 div.sk-label:hover label.sk-toggleable__label {background-color: #d4ebff;}#sk-container-id-1 div.sk-serial::before {content: \"\";position: absolute;border-left: 1px solid gray;box-sizing: border-box;top: 0;bottom: 0;left: 50%;z-index: 0;}#sk-container-id-1 div.sk-serial {display: flex;flex-direction: column;align-items: center;background-color: white;padding-right: 0.2em;padding-left: 0.2em;position: relative;}#sk-container-id-1 div.sk-item {position: relative;z-index: 1;}#sk-container-id-1 div.sk-parallel {display: flex;align-items: stretch;justify-content: center;background-color: white;position: relative;}#sk-container-id-1 div.sk-item::before, #sk-container-id-1 div.sk-parallel-item::before {content: \"\";position: absolute;border-left: 1px solid gray;box-sizing: border-box;top: 0;bottom: 0;left: 50%;z-index: -1;}#sk-container-id-1 div.sk-parallel-item {display: flex;flex-direction: column;z-index: 1;position: relative;background-color: white;}#sk-container-id-1 div.sk-parallel-item:first-child::after {align-self: flex-end;width: 50%;}#sk-container-id-1 div.sk-parallel-item:last-child::after {align-self: flex-start;width: 50%;}#sk-container-id-1 div.sk-parallel-item:only-child::after {width: 0;}#sk-container-id-1 div.sk-dashed-wrapped {border: 1px dashed gray;margin: 0 0.4em 0.5em 0.4em;box-sizing: border-box;padding-bottom: 0.4em;background-color: white;}#sk-container-id-1 div.sk-label label {font-family: monospace;font-weight: bold;display: inline-block;line-height: 1.2em;}#sk-container-id-1 div.sk-label-container {text-align: center;}#sk-container-id-1 div.sk-container {/* jupyter's `normalize.less` sets `[hidden] { display: none; }` but bootstrap.min.css set `[hidden] { display: none !important; }` so we also need the `!important` here to be able to override the default hidden behavior on the sphinx rendered scikit-learn.org. See: https://github.com/scikit-learn/scikit-learn/issues/21755 */display: inline-block !important;position: relative;}#sk-container-id-1 div.sk-text-repr-fallback {display: none;}</style><div id=\"sk-container-id-1\" class=\"sk-top-container\"><div class=\"sk-text-repr-fallback\"><pre>LinearRegression()</pre><b>In a Jupyter environment, please rerun this cell to show the HTML representation or trust the notebook. <br />On GitHub, the HTML representation is unable to render, please try loading this page with nbviewer.org.</b></div><div class=\"sk-container\" hidden><div class=\"sk-item\"><div class=\"sk-estimator sk-toggleable\"><input class=\"sk-toggleable__control sk-hidden--visually\" id=\"sk-estimator-id-1\" type=\"checkbox\" checked><label for=\"sk-estimator-id-1\" class=\"sk-toggleable__label sk-toggleable__label-arrow\">LinearRegression</label><div class=\"sk-toggleable__content\"><pre>LinearRegression()</pre></div></div></div></div></div>"
      ],
      "text/plain": [
       "LinearRegression()"
      ]
     },
     "execution_count": 5,
     "metadata": {},
     "output_type": "execute_result"
    }
   ],
   "source": [
    "model"
   ]
  },
  {
   "cell_type": "code",
   "execution_count": 6,
   "id": "f15a2b15",
   "metadata": {},
   "outputs": [
    {
     "data": {
      "text/plain": [
       "{'column': ['size',\n",
       "  'bath',\n",
       "  'balcony',\n",
       "  'area_type_Built-up  Area',\n",
       "  'area_type_Carpet  Area',\n",
       "  'area_type_Plot  Area',\n",
       "  'area_type_Super built-up  Area',\n",
       "  'total_squre_fit',\n",
       "  'site_location_Alandi Road',\n",
       "  'site_location_Ambegaon Budruk',\n",
       "  'site_location_Anandnagar',\n",
       "  'site_location_Aundh',\n",
       "  'site_location_Aundh Road',\n",
       "  'site_location_Balaji Nagar',\n",
       "  'site_location_Baner',\n",
       "  'site_location_Baner road',\n",
       "  'site_location_Bhandarkar Road',\n",
       "  'site_location_Bhavani Peth',\n",
       "  'site_location_Bibvewadi',\n",
       "  'site_location_Bopodi',\n",
       "  'site_location_Budhwar Peth',\n",
       "  'site_location_Bund Garden Road',\n",
       "  'site_location_Camp',\n",
       "  'site_location_Chandan Nagar',\n",
       "  'site_location_Dapodi',\n",
       "  'site_location_Deccan Gymkhana',\n",
       "  'site_location_Dehu Road',\n",
       "  'site_location_Dhankawadi',\n",
       "  'site_location_Dhayari Phata',\n",
       "  'site_location_Dhole Patil Road',\n",
       "  'site_location_Erandwane',\n",
       "  'site_location_Fatima Nagar',\n",
       "  'site_location_Fergusson College Road',\n",
       "  'site_location_Ganesh Peth',\n",
       "  'site_location_Ganeshkhind',\n",
       "  'site_location_Ghorpade Peth',\n",
       "  'site_location_Ghorpadi',\n",
       "  'site_location_Gokhale Nagar',\n",
       "  'site_location_Gultekdi',\n",
       "  'site_location_Guruwar peth',\n",
       "  'site_location_Hadapsar',\n",
       "  'site_location_Hadapsar Industrial Estate',\n",
       "  'site_location_Hingne Khurd',\n",
       "  'site_location_Jangali Maharaj Road',\n",
       "  'site_location_Kalyani Nagar',\n",
       "  'site_location_Karve Nagar',\n",
       "  'site_location_Karve Road',\n",
       "  'site_location_Kasba Peth',\n",
       "  'site_location_Katraj',\n",
       "  'site_location_Khadaki',\n",
       "  'site_location_Khadki',\n",
       "  'site_location_Kharadi',\n",
       "  'site_location_Kondhwa',\n",
       "  'site_location_Kondhwa Budruk',\n",
       "  'site_location_Kondhwa Khurd',\n",
       "  'site_location_Koregaon Park',\n",
       "  'site_location_Kothrud',\n",
       "  'site_location_Law College Road',\n",
       "  'site_location_Laxmi Road',\n",
       "  'site_location_Lulla Nagar',\n",
       "  'site_location_Mahatma Gandhi Road',\n",
       "  'site_location_Mangalwar peth',\n",
       "  'site_location_Manik Bagh',\n",
       "  'site_location_Market yard',\n",
       "  'site_location_Model colony',\n",
       "  'site_location_Mukund Nagar',\n",
       "  'site_location_Mundhawa',\n",
       "  'site_location_Nagar Road',\n",
       "  'site_location_Nana Peth',\n",
       "  'site_location_Narayan Peth',\n",
       "  'site_location_Narayangaon',\n",
       "  'site_location_Navi Peth',\n",
       "  'site_location_Padmavati',\n",
       "  'site_location_Parvati Darshan',\n",
       "  'site_location_Pashan',\n",
       "  'site_location_Paud Road',\n",
       "  'site_location_Pirangut',\n",
       "  'site_location_Prabhat Road',\n",
       "  'site_location_Pune Railway Station',\n",
       "  'site_location_Rasta Peth',\n",
       "  'site_location_Raviwar Peth',\n",
       "  'site_location_Sadashiv Peth',\n",
       "  'site_location_Sahakar Nagar',\n",
       "  'site_location_Salunke Vihar',\n",
       "  'site_location_Sasson Road',\n",
       "  'site_location_Satara Road',\n",
       "  'site_location_Senapati Bapat Road',\n",
       "  'site_location_Shaniwar Peth',\n",
       "  'site_location_Shivaji Nagar',\n",
       "  'site_location_Shukrawar Peth',\n",
       "  'site_location_Sinhagad Road',\n",
       "  'site_location_Somwar Peth',\n",
       "  'site_location_Swargate',\n",
       "  'site_location_Tilak Road',\n",
       "  'site_location_Uruli Devachi',\n",
       "  'site_location_Vadgaon Budruk',\n",
       "  'site_location_Viman Nagar',\n",
       "  'site_location_Vishrant Wadi',\n",
       "  'site_location_Wadgaon Sheri',\n",
       "  'site_location_Wagholi',\n",
       "  'site_location_Wakadewadi',\n",
       "  'site_location_Wanowrie',\n",
       "  'site_location_Warje',\n",
       "  'site_location_Yerawada',\n",
       "  'site_location_other']}"
      ]
     },
     "execution_count": 6,
     "metadata": {},
     "output_type": "execute_result"
    }
   ],
   "source": [
    "project_data"
   ]
  },
  {
   "cell_type": "code",
   "execution_count": 7,
   "id": "e6a85d69",
   "metadata": {},
   "outputs": [
    {
     "name": "stdout",
     "output_type": "stream",
     "text": [
      "area_type_Built-up  Area\n",
      "site_location_Alandi Road\n"
     ]
    }
   ],
   "source": [
    "size=13.0\n",
    "bath=2.0\n",
    "balcony=1.0\n",
    "total_squre_fit=2000\n",
    "area_type =\"Built-up  Area\"\n",
    "area_type_col=\"area_type_\"+area_type\n",
    "site_location=\"Alandi Road\"\n",
    "site_location_col=\"site_location_\"+site_location\n",
    "print(area_type_col)\n",
    "print(site_location_col)"
   ]
  },
  {
   "cell_type": "code",
   "execution_count": 9,
   "id": "d4246a0e",
   "metadata": {},
   "outputs": [
    {
     "data": {
      "text/plain": [
       "array([0, 0, 0, 0, 0, 0, 0, 0, 0, 0, 0, 0, 0, 0, 0, 0, 0, 0, 0, 0, 0, 0,\n",
       "       0, 0, 0, 0, 0, 0, 0, 0, 0, 0, 0, 0, 0, 0, 0, 0, 0, 0, 0, 0, 0, 0,\n",
       "       0, 0, 0, 0, 0, 0, 0, 0, 0, 0, 0, 0, 0, 0, 0, 0, 0, 0, 0, 0, 0, 0,\n",
       "       0, 0, 0, 0, 0, 0, 0, 0, 0, 0, 0, 0, 0, 0, 0, 0, 0, 0, 0, 0, 0, 0,\n",
       "       0, 0, 0, 0, 0, 0, 0, 0, 0, 0, 0, 0, 0, 0, 0, 0, 0])"
      ]
     },
     "execution_count": 9,
     "metadata": {},
     "output_type": "execute_result"
    }
   ],
   "source": [
    "array=np.zeros(len(project_data[\"column\"]),dtype=int)\n",
    "array"
   ]
  },
  {
   "cell_type": "code",
   "execution_count": 11,
   "id": "2d4ef56e",
   "metadata": {},
   "outputs": [],
   "source": [
    "array[0]=size\n",
    "array[1]=bath\n",
    "array[2]=balcony\n",
    "array[3]=total_squre_fit\n",
    "array[project_data[\"column\"].index(area_type_col)]=1\n",
    "array[project_data[\"column\"].index(site_location_col)]=1"
   ]
  },
  {
   "cell_type": "code",
   "execution_count": 13,
   "id": "43d9f4fb",
   "metadata": {},
   "outputs": [
    {
     "name": "stdout",
     "output_type": "stream",
     "text": [
      "The house price in pune is : 104.67 Rs-\\ only (Lakh) \n"
     ]
    }
   ],
   "source": [
    "house_price_pune=model.predict([array])[0]\n",
    "print(f\"The house price in pune is : {np.around(house_price_pune,2)} Rs-\\ only (Lakh) \")"
   ]
  },
  {
   "cell_type": "code",
   "execution_count": null,
   "id": "b3bf2cb8",
   "metadata": {},
   "outputs": [],
   "source": []
  }
 ],
 "metadata": {
  "kernelspec": {
   "display_name": "Python 3 (ipykernel)",
   "language": "python",
   "name": "python3"
  },
  "language_info": {
   "codemirror_mode": {
    "name": "ipython",
    "version": 3
   },
   "file_extension": ".py",
   "mimetype": "text/x-python",
   "name": "python",
   "nbconvert_exporter": "python",
   "pygments_lexer": "ipython3",
   "version": "3.10.5"
  }
 },
 "nbformat": 4,
 "nbformat_minor": 5
}
